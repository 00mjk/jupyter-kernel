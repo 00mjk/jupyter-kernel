{
 "cells": [
  {
   "cell_type": "code",
   "execution_count": 1,
   "id": "fab38acc",
   "metadata": {},
   "outputs": [
    {
     "name": "stdout",
     "output_type": "stream",
     "text": [
      "The code has been successfully loaded on Kernel"
     ]
    }
   ],
   "source": [
    "$loadcell py\n",
    "\n",
    "def mock():\n",
    "    return 4 + 8"
   ]
  },
  {
   "cell_type": "code",
   "execution_count": 2,
   "id": "b37ef55e",
   "metadata": {},
   "outputs": [
    {
     "name": "stdout",
     "output_type": "stream",
     "text": [
      "{\"node\": [{\"name\": \"repl.js\", \"scope\": {\"name\": \"global_namespace\", \"funcs\": [], \"classes\": [], \"objects\": []}}], \"py\": [{\"name\": \"tmpdt228cfc.py\", \"scope\": {\"name\": \"global_namespace\", \"funcs\": [{\"name\": \"mock\", \"signature\": {\"ret\": {\"type\": {\"name\": \"\", \"id\": 18}}, \"args\": []}, \"async\": false}], \"classes\": [], \"objects\": []}}, {\"name\": \"repl.py\", \"scope\": {\"name\": \"global_namespace\", \"funcs\": [{\"name\": \"py_repl_write\", \"signature\": {\"ret\": {\"type\": {\"name\": \"\", \"id\": 18}}, \"args\": [{\"name\": \"str\", \"type\": {\"name\": \"\", \"id\": 18}}]}, \"async\": false}, {\"name\": \"py_repl_close\", \"signature\": {\"ret\": {\"type\": {\"name\": \"\", \"id\": 18}}, \"args\": []}, \"async\": false}], \"classes\": [{\"name\": \"InteractiveConsole\"}, {\"name\": \"StringIO\"}, {\"name\": \"Capturing\"}], \"objects\": []}}]}"
     ]
    }
   ],
   "source": [
    "%inspect"
   ]
  },
  {
   "cell_type": "code",
   "execution_count": 3,
   "id": "e4ba3787",
   "metadata": {},
   "outputs": [
    {
     "name": "stdout",
     "output_type": "stream",
     "text": [
      "REPL 'node' has been selected."
     ]
    }
   ],
   "source": [
    "%repl node"
   ]
  },
  {
   "cell_type": "code",
   "execution_count": 4,
   "id": "bc506752",
   "metadata": {},
   "outputs": [
    {
     "name": "stdout",
     "output_type": "stream",
     "text": [
      "12"
     ]
    }
   ],
   "source": [
    "require('metacall').metacall('mock')"
   ]
  }
 ],
 "metadata": {
  "kernelspec": {
   "display_name": "metacall_jupyter",
   "language": "text",
   "name": "metacall_jupyter"
  },
  "language_info": {
   "file_extension": ".txt",
   "mimetype": "text/plain",
   "name": "MetaCall Core"
  }
 },
 "nbformat": 4,
 "nbformat_minor": 5
}
