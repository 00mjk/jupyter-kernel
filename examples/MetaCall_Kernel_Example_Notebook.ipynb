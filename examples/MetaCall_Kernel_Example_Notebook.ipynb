{
 "cells": [
  {
   "cell_type": "code",
   "execution_count": 1,
   "id": "92d53bf7",
   "metadata": {},
   "outputs": [
    {
     "name": "stdout",
     "output_type": "stream",
     "text": [
      "Script (/tmp/tmpfpvw05zo.py) loaded correctly\n",
      "False\n",
      "5\n",
      "\n"
     ]
    }
   ],
   "source": [
    "# Python: Implementing Basic Binary Tree in Python\n",
    "\n",
    "class Node:\n",
    "    def __init__(self, data):\n",
    "        self.data = data\n",
    "        self.left = None\n",
    "        self.right = None\n",
    "\n",
    "\n",
    "def depth_of_tree(tree):\n",
    "    if tree is None:\n",
    "        return 0\n",
    "    else:\n",
    "        depth_l_tree = depth_of_tree(tree.left)\n",
    "        depth_r_tree = depth_of_tree(tree.right)\n",
    "        if depth_l_tree > depth_r_tree:\n",
    "            return 1 + depth_l_tree\n",
    "        else:\n",
    "            return 1 + depth_r_tree\n",
    "\n",
    "\n",
    "def is_full_binary_tree(tree):\n",
    "    if tree is None:\n",
    "        return True\n",
    "    if (tree.left is None) and (tree.right is None):\n",
    "        return True\n",
    "    if (tree.left is not None) and (tree.right is not None):\n",
    "        return (is_full_binary_tree(tree.left) and is_full_binary_tree(tree.right))\n",
    "    else:\n",
    "        return False\n",
    "\n",
    "\n",
    "def main():\n",
    "    tree = Node(1)\n",
    "    tree.left = Node(2)\n",
    "    tree.right = Node(3)\n",
    "    tree.left.left = Node(4)\n",
    "    tree.left.right = Node(5)\n",
    "    tree.left.right.left = Node(6)\n",
    "    tree.right.left = Node(7)\n",
    "    tree.right.left.left = Node(8)\n",
    "    tree.right.left.left.right = Node(9)\n",
    "\n",
    "    print(is_full_binary_tree(tree))\n",
    "    print(depth_of_tree(tree))\n",
    "    \n",
    "main()"
   ]
  },
  {
   "cell_type": "code",
   "execution_count": 2,
   "id": "343d5cbe",
   "metadata": {},
   "outputs": [
    {
     "name": "stdout",
     "output_type": "stream",
     "text": [
      "1\n",
      "11\n",
      "111\n",
      "2\n",
      "21\n",
      "211\n",
      "Script (/tmp/tmpdeofxc3r.js) loaded correctly\n",
      "\n"
     ]
    }
   ],
   "source": [
    "// JavaScript: Implementing a Queue using Stacks\n",
    "\n",
    "function Queue() {\n",
    "    this.stk1 = [];\n",
    "    this.stk2 = [];\n",
    "}\n",
    "\n",
    "Queue.prototype.length = function(value) {\n",
    "    return (this.stk1.length + this.stk2.length);\n",
    "};\n",
    "\n",
    "\n",
    "Queue.prototype.isEmpty = function(value) {\n",
    "    return (this.stk1.length + this.stk2.length) === 0;\n",
    "};\n",
    "\n",
    "Queue.prototype.add = function(value) {\n",
    "    this.stk1.push(value);\n",
    "};\n",
    "\n",
    "Queue.prototype.remove = function() {\n",
    "    var value;\n",
    "    if (this.stk2.length > 0) {\n",
    "        return this.stk2.pop();\n",
    "    }\n",
    "    while (this.stk1.length > 0) {\n",
    "        value = this.stk1.pop();\n",
    "        this.stk2.push(value);\n",
    "    };\n",
    "    return this.stk2.pop();\n",
    "};\n",
    "\n",
    "var que = new Queue();\n",
    "que.add(1);\n",
    "que.add(11);\n",
    "que.add(111);\n",
    "console.log(que.remove());\n",
    "que.add(2);\n",
    "que.add(21);\n",
    "que.add(211);\n",
    "console.log(que.remove());\n",
    "console.log(que.remove());\n",
    "console.log(que.remove());\n",
    "console.log(que.remove());\n",
    "console.log(que.remove());"
   ]
  },
  {
   "cell_type": "code",
   "execution_count": 3,
   "id": "ae25b849",
   "metadata": {},
   "outputs": [
    {
     "name": "stdout",
     "output_type": "stream",
     "text": [
      "Script (/tmp/tmp7cpa3zf1.py) loaded correctly\n",
      "True\n",
      "\n"
     ]
    }
   ],
   "source": [
    "# Python: Implementation of Rabin Karp algorithm to find a pattern within a text\n",
    "\n",
    "def rabin_karp(pattern, text):\n",
    "    p_len = len(pattern)\n",
    "    p_hash = hash(pattern)\n",
    "\n",
    "    for i in range(0, len(text) - (p_len - 1)):\n",
    "        text_hash = hash(text[i:i + p_len])\n",
    "        if text_hash == p_hash and \\\n",
    "                text[i:i + p_len] == pattern:\n",
    "            return True\n",
    "    return False\n",
    "\n",
    "pattern = \"ABABX\"\n",
    "text = \"ABABZABABYABABX\"\n",
    "print(rabin_karp(pattern, text))"
   ]
  },
  {
   "cell_type": "code",
   "execution_count": 4,
   "id": "7bfe2b55",
   "metadata": {},
   "outputs": [
    {
     "name": "stdout",
     "output_type": "stream",
     "text": [
      "2783915460\n",
      "Script (/tmp/tmpqk_ht1r8.js) loaded correctly\n",
      "\n"
     ]
    }
   ],
   "source": [
    "// JavaScript: Project Euler Problem 24 - Lexicographic permutations\n",
    "\n",
    "\n",
    "function nthPermutation(n, digits) {\n",
    "    if (digits.length === 1) {\n",
    "        return digits[0] + '';\n",
    "    }\n",
    "    var fact = factorial(digits.length - 1);\n",
    "    var i = Math.floor(n/fact);\n",
    "    var first = digits.splice(i, 1);\n",
    "    return first + nthPermutation(n - i*fact, digits);\n",
    "};\n",
    "\n",
    "function factorial(n){\n",
    "    var fact = 1;\n",
    "    while (n) {\n",
    "        fact *= n;\n",
    "        n--;\n",
    "    }\n",
    "    return fact;\n",
    "};\n",
    "\n",
    "console.log(nthPermutation(1000000 - 1, [0, 1, 2, 3, 4, 5, 6, 7, 8, 9]) ); "
   ]
  }
 ],
 "metadata": {
  "kernelspec": {
   "display_name": "metacall_jupyter",
   "language": "text",
   "name": "metacall_jupyter"
  },
  "language_info": {
   "file_extension": ".txt",
   "mimetype": "text/plain",
   "name": "MetaCall Core"
  }
 },
 "nbformat": 4,
 "nbformat_minor": 5
}
