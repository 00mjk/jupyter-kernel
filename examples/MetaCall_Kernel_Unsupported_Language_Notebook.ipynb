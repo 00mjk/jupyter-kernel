{
 "cells": [
  {
   "cell_type": "code",
   "execution_count": 1,
   "id": "ea536a8d",
   "metadata": {},
   "outputs": [
    {
     "name": "stdout",
     "output_type": "stream",
     "text": [
      "We don't suppport Rust language, yet.\n",
      "Please try with another language or add support for Rust language.\n"
     ]
    }
   ],
   "source": [
    "// Rust: Print the values passed to a function\n",
    "\n",
    "fn main() {\n",
    "    another_function(5, 6);\n",
    "}\n",
    "\n",
    "fn another_function(x: i32, y: i32) {\n",
    "    println!(\"The value of x is: {}\", x);\n",
    "    println!(\"The value of y is: {}\", y);\n",
    "}"
   ]
  },
  {
   "cell_type": "code",
   "execution_count": 2,
   "id": "e0b521e1",
   "metadata": {},
   "outputs": [
    {
     "name": "stdout",
     "output_type": "stream",
     "text": [
      "We don't suppport Go language, yet.\n",
      "Please try with another language or add support for Go language.\n"
     ]
    }
   ],
   "source": [
    "// Golang: Calculate the area of the rectangle using a function\n",
    "\n",
    "package main\n",
    "import \"fmt\"\n",
    "\n",
    "func area(length, width int)int{\n",
    "     \n",
    "    Ar := length* width\n",
    "    return Ar\n",
    "}\n",
    " \n",
    "\n",
    "func main() {\n",
    "   fmt.Printf(\"Area of rectangle is : %d\", area(12, 10))\n",
    "}"
   ]
  }
 ],
 "metadata": {
  "kernelspec": {
   "display_name": "metacall_jupyter",
   "language": "text",
   "name": "metacall_jupyter"
  },
  "language_info": {
   "file_extension": ".txt",
   "mimetype": "text/plain",
   "name": "MetaCall Core"
  }
 },
 "nbformat": 4,
 "nbformat_minor": 5
}
