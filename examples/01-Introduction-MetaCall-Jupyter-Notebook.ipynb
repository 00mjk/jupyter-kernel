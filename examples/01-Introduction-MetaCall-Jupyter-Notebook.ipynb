{
 "cells": [
  {
   "cell_type": "markdown",
   "id": "163f13fa-e2fb-46f6-a32c-127c90834795",
   "metadata": {},
   "source": [
    "# MetaCall Jupyter kernel for inter-language function calls\n",
    "\n",
    "MetaCall Core is open-source library that brings the polyglot programming experience to Developers. With MetaCall, developers can embed different programming languages through an easy-to-use high-level API. \n",
    "\n",
    "These notebooks demonstrate an IPython kernel where the MetaCall Core can be loaded and launched through a Jupyter Notebook interface. With these Notebooks, the users can try out writing and embedding code in different programming languages."
   ]
  },
  {
   "cell_type": "markdown",
   "id": "cd2f7850-5ea9-4f27-b74b-47104bd4f76c",
   "metadata": {},
   "source": [
    "## Basic usage \n",
    "\n",
    "The MetaCall Jupyter kernel supports a few commands that allows you to interact with the MetaCall Polyglot REPL to load and execute code in different languages. The other commands and magics allow you to load foreign functions on the language, interact with the shell and inspect the meta-object protocol.\n",
    "\n",
    "You can check-out all the available functionalities using the `$help` command."
   ]
  },
  {
   "cell_type": "code",
   "execution_count": 1,
   "id": "61d8c69e-1ec0-4592-8061-6846c048bba2",
   "metadata": {},
   "outputs": [
    {
     "name": "stdout",
     "output_type": "stream",
     "text": [
      "1. ! : Run a Shell Command on the MetaCall Jupyter Kernel\n",
      "2. $shutdown : Shutdown the MetaCall Jupyter Kernel\n",
      "3. $inspect : Inspects the MetaCall to check all loaded functions\n",
      "4. $loadfile: Loads a file onto the MetaCall which can be evaluated\n",
      "5. $newfile: Creates a new file and appends the code mentioned below\n",
      "6. %repl <tag>: Switch from different REPL (available tags: node, py)\n",
      "7. >lang: Execute scripts using the MetaCall exec by saving them in a temporary file (available languages: python, javascript)\n",
      "8. $loadcell <tag>: Loads a function onto the MetaCall to be evaluated\n",
      "9. $help: Check all the commands and tags you can use while accessing the MetaCall Kernel\n",
      "10. $available: Checks all the available REPLs on the Kernel"
     ]
    }
   ],
   "source": [
    "$help"
   ]
  },
  {
   "cell_type": "markdown",
   "id": "c487786b-e9a1-45ed-9de8-508c473eddfe",
   "metadata": {},
   "source": [
    "## Loading a REPL\n",
    "\n",
    "Under the hood, the MetaCall Jupyter Kernel interacts with the [Polyglot REPL](https://github.com/metacall/polyglot-repl), a Read-Evaluate-Print-Loop (REPL) that allows us to interact with REPLs of multiple languages using MetaCall. \n",
    "\n",
    "You can load a REPL, by just passing `%repl <tag>` where you can replace `<tag>` with the languages available. You can check-out the available languages through the `$available` command."
   ]
  },
  {
   "cell_type": "code",
   "execution_count": 2,
   "id": "b4f4baa3-927f-4c33-aa16-05cd33e0f867",
   "metadata": {},
   "outputs": [
    {
     "name": "stdout",
     "output_type": "stream",
     "text": [
      "Python: Use `%repl py` to activate\n",
      "JavaScript: Use `%repl node` to activate"
     ]
    }
   ],
   "source": [
    "$available"
   ]
  },
  {
   "cell_type": "markdown",
   "id": "5835646f-acf3-4805-b4a8-402032344b00",
   "metadata": {},
   "source": [
    "You can load the REPL via passing in `%repl <tag>` where tag can be replaced with either Python or Node. You can add support for more languages (like Ruby, Java and more) through the [Polyglot REPL](https://github.com/metacall/polyglot-repl).\n",
    "\n",
    "Let's load a Python REPL and execute some code."
   ]
  },
  {
   "cell_type": "code",
   "execution_count": 3,
   "id": "c43aa3af-303a-4ab4-8f5e-17179314ebe6",
   "metadata": {},
   "outputs": [
    {
     "name": "stdout",
     "output_type": "stream",
     "text": [
      "REPL 'py' has been selected."
     ]
    }
   ],
   "source": [
    "%repl py"
   ]
  },
  {
   "cell_type": "code",
   "execution_count": 4,
   "id": "8cc98f44-e448-41db-bb9a-74b33eff57ae",
   "metadata": {},
   "outputs": [
    {
     "name": "stdout",
     "output_type": "stream",
     "text": [
      "Hello World"
     ]
    }
   ],
   "source": [
    "print(\"Hello World\")"
   ]
  },
  {
   "cell_type": "code",
   "execution_count": 5,
   "id": "b8767047-7762-4cde-9f43-8162e51dd954",
   "metadata": {},
   "outputs": [
    {
     "name": "stdout",
     "output_type": "stream",
     "text": [
      "5"
     ]
    }
   ],
   "source": [
    "a = 2\n",
    "b = 3\n",
    "print(a+b)"
   ]
  },
  {
   "cell_type": "markdown",
   "id": "d4fb7218-c88b-42d9-b5af-feabb53e8d7b",
   "metadata": {},
   "source": [
    "Let's load a Node REPL and execute some code."
   ]
  },
  {
   "cell_type": "code",
   "execution_count": 6,
   "id": "ef6982b5-322d-4f6d-bb87-9fa8356b1bc9",
   "metadata": {},
   "outputs": [
    {
     "name": "stdout",
     "output_type": "stream",
     "text": [
      "REPL 'node' has been selected."
     ]
    }
   ],
   "source": [
    "%repl node"
   ]
  },
  {
   "cell_type": "code",
   "execution_count": 7,
   "id": "b752f3c0-0a32-4f94-a875-79ef8ddc3a5e",
   "metadata": {},
   "outputs": [
    {
     "name": "stdout",
     "output_type": "stream",
     "text": [
      "undefined"
     ]
    }
   ],
   "source": [
    "function sum(a,b) {\n",
    "    return a + b;\n",
    "}"
   ]
  },
  {
   "cell_type": "code",
   "execution_count": 8,
   "id": "26464caf-117c-4b7e-ba2f-9c7a34d90474",
   "metadata": {},
   "outputs": [
    {
     "name": "stdout",
     "output_type": "stream",
     "text": [
      "7"
     ]
    }
   ],
   "source": [
    "sum(3,4);"
   ]
  },
  {
   "cell_type": "markdown",
   "id": "57b57c04-e1f6-4db0-906b-0b72cc2b5891",
   "metadata": {},
   "source": [
    "## Shutdown the Kernel\n",
    "\n",
    "You can shutdown the kernel and the notebook interface through the `$shutdown` command. This will stop the REPL subprocess running in the background."
   ]
  },
  {
   "cell_type": "code",
   "execution_count": 9,
   "id": "51f1b881-dac4-409f-b150-8db68303c043",
   "metadata": {},
   "outputs": [
    {
     "name": "stdout",
     "output_type": "stream",
     "text": [
      "Kernel Shutdown!"
     ]
    }
   ],
   "source": [
    "$shutdown"
   ]
  }
 ],
 "metadata": {
  "kernelspec": {
   "display_name": "metacall_jupyter",
   "language": "text",
   "name": "metacall_jupyter"
  },
  "language_info": {
   "file_extension": ".txt",
   "mimetype": "text/plain",
   "name": "MetaCall Core"
  }
 },
 "nbformat": 4,
 "nbformat_minor": 5
}
