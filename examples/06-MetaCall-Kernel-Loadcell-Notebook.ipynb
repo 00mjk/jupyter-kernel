{
 "cells": [
  {
   "cell_type": "markdown",
   "id": "067b9fb5-4e14-44bf-acdc-1c2bdc1111e9",
   "metadata": {},
   "source": [
    "# MetaCall Kernel Loadcell Demonstration\n",
    "\n",
    "Through the MetaCall Kernel, you can save load functions through code cell directly using the `$loadcell <tag>` functionality. Through this, you don't have to specify the filename and the function is loaded directly by saving it on a temporary file.\n",
    "\n",
    "Once loaded, you can import these functions in a different language, thus implementing cross-language function calls. To check whether a function has been loaded, you can use `$inspect`."
   ]
  },
  {
   "cell_type": "code",
   "execution_count": 1,
   "id": "609c780e-5d96-4b9c-931e-938206a1867e",
   "metadata": {},
   "outputs": [
    {
     "name": "stdout",
     "output_type": "stream",
     "text": [
      "The code has been successfully loaded on Kernel"
     ]
    }
   ],
   "source": [
    "$loadcell py\n",
    "\n",
    "def mock():\n",
    "    return 4 + 8"
   ]
  },
  {
   "cell_type": "code",
   "execution_count": 2,
   "id": "5ea6b8c0-3049-4bfc-af00-15d905897cb0",
   "metadata": {},
   "outputs": [
    {
     "name": "stdout",
     "output_type": "stream",
     "text": [
      "{\"node\": [{\"name\": \"repl.js\", \"scope\": {\"name\": \"global_namespace\", \"funcs\": [], \"classes\": [], \"objects\": []}}], \"py\": [{\"name\": \"tmps3m6rh6t.py\", \"scope\": {\"name\": \"global_namespace\", \"funcs\": [{\"name\": \"mock\", \"signature\": {\"ret\": {\"type\": {\"name\": \"\", \"id\": 18}}, \"args\": []}, \"async\": false}], \"classes\": [], \"objects\": []}}, {\"name\": \"repl.py\", \"scope\": {\"name\": \"global_namespace\", \"funcs\": [{\"name\": \"py_repl_write\", \"signature\": {\"ret\": {\"type\": {\"name\": \"\", \"id\": 18}}, \"args\": [{\"name\": \"str\", \"type\": {\"name\": \"\", \"id\": 18}}]}, \"async\": false}, {\"name\": \"py_repl_close\", \"signature\": {\"ret\": {\"type\": {\"name\": \"\", \"id\": 18}}, \"args\": []}, \"async\": false}], \"classes\": [{\"name\": \"InteractiveConsole\"}, {\"name\": \"StringIO\"}, {\"name\": \"Capturing\"}], \"objects\": []}}]}"
     ]
    }
   ],
   "source": [
    "$inspect"
   ]
  },
  {
   "cell_type": "code",
   "execution_count": 3,
   "id": "161b50bd-8715-42ee-935f-43ab2a78676d",
   "metadata": {},
   "outputs": [
    {
     "name": "stdout",
     "output_type": "stream",
     "text": [
      "REPL 'node' has been selected."
     ]
    }
   ],
   "source": [
    "%repl node"
   ]
  },
  {
   "cell_type": "code",
   "execution_count": 4,
   "id": "7c677b09-f874-4399-a2e8-54d612661e55",
   "metadata": {},
   "outputs": [
    {
     "name": "stdout",
     "output_type": "stream",
     "text": [
      "12"
     ]
    }
   ],
   "source": [
    "require('metacall').metacall('mock')"
   ]
  }
 ],
 "metadata": {
  "kernelspec": {
   "display_name": "metacall_jupyter",
   "language": "text",
   "name": "metacall_jupyter"
  },
  "language_info": {
   "file_extension": ".txt",
   "mimetype": "text/plain",
   "name": "MetaCall Core"
  }
 },
 "nbformat": 4,
 "nbformat_minor": 5
}
