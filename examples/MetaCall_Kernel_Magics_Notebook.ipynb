{
 "cells": [
  {
   "cell_type": "code",
   "execution_count": 1,
   "id": "0aa7997f",
   "metadata": {},
   "outputs": [
    {
     "name": "stdout",
     "output_type": "stream",
     "text": [
      "Script (/tmp/tmp2muyncze.py) loaded correctly\n",
      "1:: 0\n",
      "2:: 1\n",
      "3:: 1\n",
      "4:: 2\n",
      "5:: 3\n",
      "6:: 5\n",
      "7:: 8\n",
      "8:: 13\n",
      "9:: 21\n",
      "10:: 34\n",
      "\n"
     ]
    }
   ],
   "source": [
    "%Python\n",
    "\n",
    "# Printing a Fibonacci Sequence in Python\n",
    "\n",
    "def fib(num):\n",
    "  a,b = 0, 1\n",
    "  for i in range(0, num):\n",
    "    yield \"{}:: {}\".format(i + 1,a)\n",
    "    a, b = b, a + b\n",
    "\n",
    "for item in fib(10):\n",
    "  print(item)"
   ]
  },
  {
   "cell_type": "code",
   "execution_count": 2,
   "id": "9bedad76",
   "metadata": {},
   "outputs": [
    {
     "name": "stdout",
     "output_type": "stream",
     "text": [
      "6857\n",
      "1471\n",
      "839\n",
      "71\n",
      "Script (/tmp/tmpv_xmwhhc.js) loaded correctly\n",
      "\n"
     ]
    }
   ],
   "source": [
    "%JavaScript\n",
    "\n",
    "// Largest Prime Factor; Project Euler Problem #3: https://projecteuler.net/problem=3\n",
    "\n",
    "function findFactors(n) {\n",
    "    let divisors = [];\n",
    "\n",
    "    for(let i = 0 ; i <= Math.sqrt(n); i++) {\n",
    "        if (n % i === 0) {\n",
    "            if (parseInt(n / i, 10) === i) {\n",
    "                divisors.push(i);\n",
    "            } else {\n",
    "                divisors.push(n / i)\n",
    "                divisors.push(i);\n",
    "            }\n",
    "        }\n",
    "    }\n",
    "\n",
    "    return divisors.sort((a,b) => a > b ? -1 : +1);\n",
    "}\n",
    "\n",
    "function isPrime(n) {\n",
    "    if (n <= 1) return false;\n",
    "\n",
    "    for(let i = 2; i < n; i++) {\n",
    "        if (n % i === 0)\n",
    "            return false;\n",
    "    }\n",
    "\n",
    "    return true;\n",
    "}\n",
    "\n",
    "let factors = findFactors(600851475143);\n",
    "\n",
    "factors.forEach((factor) => {\n",
    "    if (isPrime(factor)) {\n",
    "        console.log(factor);\n",
    "    }\n",
    "})"
   ]
  }
 ],
 "metadata": {
  "kernelspec": {
   "display_name": "metacall_jupyter",
   "language": "text",
   "name": "metacall_jupyter"
  },
  "language_info": {
   "file_extension": ".txt",
   "mimetype": "text/plain",
   "name": "MetaCall Core"
  }
 },
 "nbformat": 4,
 "nbformat_minor": 5
}
