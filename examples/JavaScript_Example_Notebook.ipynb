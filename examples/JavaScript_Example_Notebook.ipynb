{
 "cells": [
  {
   "cell_type": "code",
   "execution_count": 1,
   "id": "3996163d",
   "metadata": {},
   "outputs": [
    {
     "name": "stdout",
     "output_type": "stream",
     "text": [
      "Hello World"
     ]
    }
   ],
   "source": [
    "// Printing a Console Message \n",
    "\n",
    "console.log(\"Hello World\");"
   ]
  },
  {
   "cell_type": "code",
   "execution_count": 2,
   "id": "9d3cc7be",
   "metadata": {},
   "outputs": [
    {
     "name": "stdout",
     "output_type": "stream",
     "text": [
      "5\n",
      "10341"
     ]
    }
   ],
   "source": [
    "// Adding two numbers using a function\n",
    "\n",
    "function sum(a,b){\n",
    "    return a+b;\n",
    "}\n",
    "\n",
    "console.log(sum(2,3));\n",
    "console.log(sum(1567,8774));"
   ]
  },
  {
   "cell_type": "code",
   "execution_count": 3,
   "id": "ec4ba16a",
   "metadata": {},
   "outputs": [
    {
     "name": "stdout",
     "output_type": "stream",
     "text": [
      "906609"
     ]
    }
   ],
   "source": [
    "// Implementing Largest Palindrome Product. Ref: https://projecteuler.net/problem=4\n",
    "\n",
    "const array = new Array(900).fill(0).map((e, i) => i + 100);\n",
    "\n",
    "const isPalindrome = num => {\n",
    "  return (\n",
    "    String(num) ===\n",
    "    String(num)\n",
    "      .split(\"\")\n",
    "      .reverse()\n",
    "      .join(\"\")\n",
    "  );\n",
    "};\n",
    "\n",
    "const maxProduct = range => {\n",
    "  let palindrome = 0;\n",
    "  for (let i = 0; i < range.length; i++) {\n",
    "    for (let j = i + 1; j < range.length; j++) {\n",
    "      const product = array[i] * array[j];\n",
    "      if (isPalindrome(product) && product > palindrome) {\n",
    "        palindrome = product;\n",
    "      }\n",
    "    }\n",
    "  }\n",
    "\n",
    "  return palindrome;\n",
    "};\n",
    "\n",
    "console.log(maxProduct(array));"
   ]
  },
  {
   "cell_type": "code",
   "execution_count": 4,
   "id": "6792eb41",
   "metadata": {},
   "outputs": [
    {
     "name": "stdout",
     "output_type": "stream",
     "text": [
      "104743"
     ]
    }
   ],
   "source": [
    "// Implementing 10001st prime. Ref: https://projecteuler.net/problem=7\n",
    "\n",
    "function getPrimes(max) {\n",
    "  let arr = new Array(max).fill(undefined);\n",
    "  for (let i = 2; i < max; i++) {\n",
    "    if (arr[i] === undefined) {\n",
    "      arr[i] = true;\n",
    "      for (let j = i + i; j < max; j += i) {\n",
    "        arr[j] = false;\n",
    "      }\n",
    "    }\n",
    "  }\n",
    "  return arr\n",
    "    .map((item, i) => item ? i : false)\n",
    "    .filter(Boolean)\n",
    "}\n",
    "\n",
    "let primes = getPrimes(150000);\n",
    "console.log(primes[10000]);"
   ]
  }
 ],
 "metadata": {
  "kernelspec": {
   "display_name": "metacall_jupyter",
   "language": "text",
   "name": "metacall_jupyter"
  },
  "language_info": {
   "file_extension": ".txt",
   "mimetype": "text/plain",
   "name": "MetaCall Core"
  }
 },
 "nbformat": 4,
 "nbformat_minor": 5
}
