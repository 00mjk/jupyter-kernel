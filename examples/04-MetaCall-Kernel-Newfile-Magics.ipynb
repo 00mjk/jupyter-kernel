{
 "cells": [
  {
   "cell_type": "markdown",
   "id": "c1691d65-28f4-431d-ace2-39e066c73c49",
   "metadata": {},
   "source": [
    "# MetaCall Kernel Newfile magics \n",
    "\n",
    "You can create new files that are saved on the local directory through the MetaCall Kernel over the Jupyter Notebook interface. You can make use of the functionality to save files on your disk, while creating polyglot applications and implement load from files.\n",
    "\n",
    "To make use of this functionality, you can make use of `$newfile <filename>` to create the file. If the file doesn't exist, it will create a file and append the code mentioned below to the same. If the file does exist, the code would be appended below the existing code in the file."
   ]
  },
  {
   "cell_type": "code",
   "execution_count": 1,
   "id": "382acbca-af1f-433f-8731-032a4d23afea",
   "metadata": {},
   "outputs": [
    {
     "name": "stdout",
     "output_type": "stream",
     "text": [
      "File app.py is saved."
     ]
    }
   ],
   "source": [
    "$newfile app.py\n",
    "\n",
    "# Demo from: https://github.com/metacall/url-shortener-example\n",
    "\n",
    "import requests\n",
    "from urllib.parse import urlencode\n",
    "import sys\n",
    "\n",
    "\n",
    "def make_tiny(url):\n",
    "    \"\"\"Function to shorten a URL using the TinyURL API\"\"\"\n",
    "    request_url = ('http://tinyurl.com/api-create.php?' +\n",
    "                   urlencode({'url': url}))\n",
    "    result = requests.get(request_url)\n",
    "    return result.text"
   ]
  },
  {
   "cell_type": "code",
   "execution_count": 2,
   "id": "bc5ba07f-7b12-45c3-89d2-f543474a0e8d",
   "metadata": {},
   "outputs": [
    {
     "name": "stdout",
     "output_type": "stream",
     "text": [
      "File main.js is saved."
     ]
    }
   ],
   "source": [
    "$newfile main.js\n",
    "\n",
    "const { make_tiny } = require('./app.py');\n",
    "console.log(make_tiny(\"https://github.com/metacall/core\"));"
   ]
  },
  {
   "cell_type": "code",
   "execution_count": 3,
   "id": "14283b3a-05ba-46b0-b71d-eb52d22a2414",
   "metadata": {},
   "outputs": [
    {
     "name": "stdout",
     "output_type": "stream",
     "text": [
      "REPL 'node' has been selected."
     ]
    }
   ],
   "source": [
    "%repl node"
   ]
  },
  {
   "cell_type": "code",
   "execution_count": 4,
   "id": "7a2eec31-b41e-4e37-b86b-434916d348db",
   "metadata": {},
   "outputs": [
    {
     "name": "stdout",
     "output_type": "stream",
     "text": [
      "undefined"
     ]
    }
   ],
   "source": [
    "const { make_tiny } = require('./app.py');"
   ]
  },
  {
   "cell_type": "code",
   "execution_count": 5,
   "id": "7630cedc-fc63-4a12-b288-3e7f6644657d",
   "metadata": {},
   "outputs": [
    {
     "name": "stdout",
     "output_type": "stream",
     "text": [
      "https://tinyurl.com/yjn96y26"
     ]
    }
   ],
   "source": [
    "make_tiny(\"https://github.com/metacall/jupyter-kernel\")"
   ]
  }
 ],
 "metadata": {
  "kernelspec": {
   "display_name": "metacall_jupyter",
   "language": "text",
   "name": "metacall_jupyter"
  },
  "language_info": {
   "file_extension": ".txt",
   "mimetype": "text/plain",
   "name": "MetaCall Core"
  }
 },
 "nbformat": 4,
 "nbformat_minor": 5
}
