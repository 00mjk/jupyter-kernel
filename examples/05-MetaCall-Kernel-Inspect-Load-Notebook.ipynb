{
 "cells": [
  {
   "cell_type": "markdown",
   "id": "a79ed92f-ffae-4f26-8947-8f173cab29b5",
   "metadata": {},
   "source": [
    "# MetaCall Kernel Inspect & Load Notebook \n",
    "\n",
    "Through the MetaCall Kernel, you can save code in form of a file over the disk using the `$newfile` magic. Through the `$loadfile <tag> <filename>` functionality, you can load these external files in form of functions over the MetaCall's meta-object protocol.\n",
    "\n",
    "Once loaded, you can import these functions in a different language, thus implementing cross-language function calls. To check whether a function has been loaded, you can use `$inspect` "
   ]
  },
  {
   "cell_type": "code",
   "execution_count": null,
   "id": "da785d00-197a-4fe7-9283-dc776bfc6cbf",
   "metadata": {},
   "outputs": [],
   "source": [
    "$newfile main.py\n",
    "\n",
    "def mock_function():\n",
    "    return 4"
   ]
  },
  {
   "cell_type": "code",
   "execution_count": 1,
   "id": "a2f2f2cd-59bd-4edf-ba32-d0fae160c229",
   "metadata": {},
   "outputs": [
    {
     "name": "stdout",
     "output_type": "stream",
     "text": [
      "The file has been successfully loaded"
     ]
    }
   ],
   "source": [
    "$loadfile py main.py"
   ]
  },
  {
   "cell_type": "code",
   "execution_count": 2,
   "id": "a3724a84-0152-4a05-875a-12b3b35071c2",
   "metadata": {},
   "outputs": [
    {
     "name": "stdout",
     "output_type": "stream",
     "text": [
      "{\"node\": [{\"name\": \"repl.js\", \"scope\": {\"name\": \"global_namespace\", \"funcs\": [], \"classes\": [], \"objects\": []}}], \"py\": [{\"name\": \"repl.py\", \"scope\": {\"name\": \"global_namespace\", \"funcs\": [{\"name\": \"py_repl_write\", \"signature\": {\"ret\": {\"type\": {\"name\": \"\", \"id\": 18}}, \"args\": [{\"name\": \"str\", \"type\": {\"name\": \"\", \"id\": 18}}]}, \"async\": false}, {\"name\": \"py_repl_close\", \"signature\": {\"ret\": {\"type\": {\"name\": \"\", \"id\": 18}}, \"args\": []}, \"async\": false}], \"classes\": [{\"name\": \"InteractiveConsole\"}, {\"name\": \"StringIO\"}, {\"name\": \"Capturing\"}], \"objects\": []}}, {\"name\": \"main.py\", \"scope\": {\"name\": \"global_namespace\", \"funcs\": [{\"name\": \"mock_function\", \"signature\": {\"ret\": {\"type\": {\"name\": \"\", \"id\": 18}}, \"args\": []}, \"async\": false}], \"classes\": [], \"objects\": []}}]}"
     ]
    }
   ],
   "source": [
    "$inspect"
   ]
  },
  {
   "cell_type": "code",
   "execution_count": null,
   "id": "a93beb94-b5ef-4c9d-9008-9ddf4c33feef",
   "metadata": {},
   "outputs": [],
   "source": [
    "$shutdown"
   ]
  },
  {
   "cell_type": "code",
   "execution_count": null,
   "id": "3ec5b0ef-5a21-454e-9ed6-0600fc8dcd34",
   "metadata": {},
   "outputs": [],
   "source": []
  }
 ],
 "metadata": {
  "kernelspec": {
   "display_name": "metacall_jupyter",
   "language": "text",
   "name": "metacall_jupyter"
  },
  "language_info": {
   "file_extension": ".txt",
   "mimetype": "text/plain",
   "name": "MetaCall Core"
  }
 },
 "nbformat": 4,
 "nbformat_minor": 5
}
