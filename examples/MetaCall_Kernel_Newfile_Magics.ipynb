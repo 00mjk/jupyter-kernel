{
 "cells": [
  {
   "cell_type": "code",
   "execution_count": 2,
   "id": "58067d12",
   "metadata": {},
   "outputs": [
    {
     "name": "stdout",
     "output_type": "stream",
     "text": [
      "File app.py is saved."
     ]
    }
   ],
   "source": [
    "$newfile app.py\n",
    "\n",
    "# Demo from: https://github.com/metacall/url-shortener-example\n",
    "\n",
    "import requests\n",
    "from urllib.parse import urlencode\n",
    "import sys\n",
    "\n",
    "\n",
    "def make_tiny(url):\n",
    "    \"\"\"Function to shorten a URL using the TinyURL API\"\"\"\n",
    "    request_url = ('http://tinyurl.com/api-create.php?' +\n",
    "                   urlencode({'url': url}))\n",
    "    result = requests.get(request_url)\n",
    "    return result.text"
   ]
  },
  {
   "cell_type": "code",
   "execution_count": 3,
   "id": "9afceb00",
   "metadata": {},
   "outputs": [
    {
     "name": "stdout",
     "output_type": "stream",
     "text": [
      "File main.js is saved."
     ]
    }
   ],
   "source": [
    "$newfile main.js\n",
    "\n",
    "const { make_tiny } = require('./app.py');\n",
    "console.log(make_tiny(\"https://github.com/metacall/core\"));"
   ]
  },
  {
   "cell_type": "code",
   "execution_count": 4,
   "id": "16e07eaa",
   "metadata": {},
   "outputs": [
    {
     "name": "stdout",
     "output_type": "stream",
     "text": [
      "https://tinyurl.com/y5ey8s4t"
     ]
    }
   ],
   "source": [
    "!metacall main.js"
   ]
  },
  {
   "cell_type": "code",
   "execution_count": 5,
   "id": "80088c36",
   "metadata": {},
   "outputs": [
    {
     "name": "stdout",
     "output_type": "stream",
     "text": [
      "REPL 'node' has been selected."
     ]
    }
   ],
   "source": [
    "%repl node"
   ]
  },
  {
   "cell_type": "code",
   "execution_count": 6,
   "id": "0b25c28d",
   "metadata": {},
   "outputs": [
    {
     "name": "stdout",
     "output_type": "stream",
     "text": [
      "undefined"
     ]
    }
   ],
   "source": [
    "const { make_tiny } = require('./app.py');"
   ]
  },
  {
   "cell_type": "code",
   "execution_count": 7,
   "id": "034fa286",
   "metadata": {},
   "outputs": [
    {
     "name": "stdout",
     "output_type": "stream",
     "text": [
      "https://tinyurl.com/yjn96y26"
     ]
    }
   ],
   "source": [
    "make_tiny(\"https://github.com/metacall/jupyter-kernel\")"
   ]
  }
 ],
 "metadata": {
  "kernelspec": {
   "display_name": "metacall_jupyter",
   "language": "text",
   "name": "metacall_jupyter"
  },
  "language_info": {
   "file_extension": ".txt",
   "mimetype": "text/plain",
   "name": "MetaCall Core"
  }
 },
 "nbformat": 4,
 "nbformat_minor": 5
}
