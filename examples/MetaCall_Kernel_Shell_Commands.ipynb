{
 "cells": [
  {
   "cell_type": "code",
   "execution_count": 1,
   "id": "1091f5cd",
   "metadata": {},
   "outputs": [
    {
     "name": "stdout",
     "output_type": "stream",
     "text": [
      "Collecting requests==2.20.0\n",
      "  Using cached https://files.pythonhosted.org/packages/f1/ca/10332a30cb25b627192b4ea272c351bce3ca1091e541245cccbace6051d8/requests-2.20.0-py2.py3-none-any.whl\n",
      "Requirement already satisfied: certifi>=2017.4.17 in /gnu/store/q9rm8h9imazsq2c4qiv2yjpvlvliywqb-python-3.8.2/lib/python3.8/site-packages (from requests==2.20.0) (2021.5.30)\n",
      "Requirement already satisfied: chardet<3.1.0,>=3.0.2 in /gnu/store/q9rm8h9imazsq2c4qiv2yjpvlvliywqb-python-3.8.2/lib/python3.8/site-packages (from requests==2.20.0) (3.0.4)\n",
      "Requirement already satisfied: urllib3<1.25,>=1.21.1 in /gnu/store/q9rm8h9imazsq2c4qiv2yjpvlvliywqb-python-3.8.2/lib/python3.8/site-packages (from requests==2.20.0) (1.24.3)\n",
      "Requirement already satisfied: idna<2.8,>=2.5 in /gnu/store/q9rm8h9imazsq2c4qiv2yjpvlvliywqb-python-3.8.2/lib/python3.8/site-packages (from requests==2.20.0) (2.7)\n",
      "Installing collected packages: requests\n",
      "Successfully installed requests-2.20.0\n",
      "WARNING: You are using pip version 19.2.3, however version 21.1.3 is available.\n",
      "You should consider upgrading via the 'pip install --upgrade pip' command."
     ]
    }
   ],
   "source": [
    "!metacall pip3 install requests==2.20.0"
   ]
  },
  {
   "cell_type": "code",
   "execution_count": 2,
   "id": "1bf3953d",
   "metadata": {},
   "outputs": [
    {
     "name": "stdout",
     "output_type": "stream",
     "text": [
      "https://tinyurl.com/ycj92lsp"
     ]
    }
   ],
   "source": [
    "%python\n",
    "\n",
    "# Python Script to shorten a URL; Executed through the MetaCall Subprocess\n",
    "\n",
    "import requests\n",
    "from urllib.parse import urlencode\n",
    "import sys\n",
    "\n",
    "\n",
    "def make_tiny(url):\n",
    "    request_url = ('http://tinyurl.com/api-create.php?' +\n",
    "                   urlencode({'url': url}))\n",
    "    result = requests.get(request_url)\n",
    "    return result.text\n",
    "\n",
    "print(make_tiny(\"http://harshcasper.hashnode.dev/polyglot-programming-with-metacall\"))"
   ]
  }
 ],
 "metadata": {
  "kernelspec": {
   "display_name": "metacall_jupyter",
   "language": "text",
   "name": "metacall_jupyter"
  },
  "language_info": {
   "file_extension": ".txt",
   "mimetype": "text/plain",
   "name": "MetaCall Core"
  }
 },
 "nbformat": 4,
 "nbformat_minor": 5
}
