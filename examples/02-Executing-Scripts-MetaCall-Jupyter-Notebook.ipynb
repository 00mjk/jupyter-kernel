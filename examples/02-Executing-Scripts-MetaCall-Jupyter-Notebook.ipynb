{
 "cells": [
  {
   "cell_type": "markdown",
   "id": "51a13296-8e98-400e-bb3c-c47bc7348498",
   "metadata": {},
   "source": [
    "# Executing standalone scripts using MetaCall\n",
    "\n",
    "You can execute standalone scripts in Python and JavaScript (Node) using the MetaCall exec through the MetaCall Jupyter Kernel. It provides a handy way for you to execute scripts, check output and validate your polyglot applications, without needing to exploit cross-language function calls.\n",
    "\n",
    "You can execute standalone scripts through `>lang` where the available languages are `python`, `javascript` or any other language that is supported by the MetaCall CLI."
   ]
  },
  {
   "cell_type": "code",
   "execution_count": 1,
   "id": "b867e403-b274-41e9-a0df-9bb862d11774",
   "metadata": {},
   "outputs": [
    {
     "name": "stdout",
     "output_type": "stream",
     "text": [
      "True"
     ]
    }
   ],
   "source": [
    ">python\n",
    "\n",
    "def rabin_karp(pattern, text):\n",
    "    p_len = len(pattern)\n",
    "    p_hash = hash(pattern)\n",
    "\n",
    "    for i in range(0, len(text) - (p_len - 1)):\n",
    "        text_hash = hash(text[i:i + p_len])\n",
    "        if text_hash == p_hash and \\\n",
    "                text[i:i + p_len] == pattern:\n",
    "            return True\n",
    "    return False\n",
    "\n",
    "pattern = \"ABABX\"\n",
    "text = \"ABABZABABYABABX\"\n",
    "print(rabin_karp(pattern, text))"
   ]
  },
  {
   "cell_type": "code",
   "execution_count": 2,
   "id": "dde3780b-152f-484a-add3-31c5f90d8f2e",
   "metadata": {},
   "outputs": [
    {
     "name": "stdout",
     "output_type": "stream",
     "text": [
      "2783915460"
     ]
    }
   ],
   "source": [
    ">javascript\n",
    "\n",
    "function nthPermutation(n, digits) {\n",
    "    if (digits.length === 1) {\n",
    "        return digits[0] + '';\n",
    "    }\n",
    "    var fact = factorial(digits.length - 1);\n",
    "    var i = Math.floor(n/fact);\n",
    "    var first = digits.splice(i, 1);\n",
    "    return first + nthPermutation(n - i*fact, digits);\n",
    "};\n",
    "\n",
    "function factorial(n){\n",
    "    var fact = 1;\n",
    "    while (n) {\n",
    "        fact *= n;\n",
    "        n--;\n",
    "    }\n",
    "    return fact;\n",
    "};\n",
    "\n",
    "console.log(nthPermutation(1000000 - 1, [0, 1, 2, 3, 4, 5, 6, 7, 8, 9]) ); "
   ]
  }
 ],
 "metadata": {
  "kernelspec": {
   "display_name": "metacall_jupyter",
   "language": "text",
   "name": "metacall_jupyter"
  },
  "language_info": {
   "file_extension": ".txt",
   "mimetype": "text/plain",
   "name": "MetaCall Core"
  }
 },
 "nbformat": 4,
 "nbformat_minor": 5
}
