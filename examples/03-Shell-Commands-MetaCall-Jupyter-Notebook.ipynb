{
 "cells": [
  {
   "cell_type": "markdown",
   "id": "591644ed-e69a-4536-b0bf-81bb1060f86c",
   "metadata": {},
   "source": [
    "# Shell Commands on the MetaCall Jupyter\n",
    "\n",
    "Using the `!` prefix, you can run Shell commands on the MetaCall Jupyter. Through this, you can install `pip`, `npm` and other dependencies as required for your polyglot applications. You can also use this to interact with external files and run them straight through the Notebook interface.\n",
    "\n",
    "Note that `!` must be the first character in the cell, otherwise it will not be interpreted as shell prefix character."
   ]
  },
  {
   "cell_type": "code",
   "execution_count": 1,
   "id": "d6db3b43-ffa5-4bf7-a93d-1142051a8a14",
   "metadata": {},
   "outputs": [
    {
     "name": "stdout",
     "output_type": "stream",
     "text": [
      "assets\n",
      "build\n",
      "CODE_OF_CONDUCT.md\n",
      "dist\n",
      "Dockerfile\n",
      "docs\n",
      "env\n",
      "examples\n",
      "LICENSE\n",
      "metacall_jupyter\n",
      "metacall_jupyter.egg-info\n",
      "node_modules\n",
      "package.json\n",
      "package-lock.json\n",
      "__pycache__\n",
      "README.md\n",
      "repl.js\n",
      "requirements.txt\n",
      "setup.py\n",
      "Untitled.ipynb"
     ]
    }
   ],
   "source": [
    "!ls"
   ]
  },
  {
   "cell_type": "code",
   "execution_count": 2,
   "id": "b66c4cdf-d7e6-456b-b677-c0e2f68c9e13",
   "metadata": {},
   "outputs": [
    {
     "name": "stdout",
     "output_type": "stream",
     "text": [
      "Collecting requests==2.20.0\n",
      "  Using cached https://files.pythonhosted.org/packages/f1/ca/10332a30cb25b627192b4ea272c351bce3ca1091e541245cccbace6051d8/requests-2.20.0-py2.py3-none-any.whl\n",
      "Requirement already satisfied: idna<2.8,>=2.5 in /gnu/store/q9rm8h9imazsq2c4qiv2yjpvlvliywqb-python-3.8.2/lib/python3.8/site-packages (from requests==2.20.0) (2.7)\n",
      "Requirement already satisfied: urllib3<1.25,>=1.21.1 in /gnu/store/q9rm8h9imazsq2c4qiv2yjpvlvliywqb-python-3.8.2/lib/python3.8/site-packages (from requests==2.20.0) (1.24.3)\n",
      "Requirement already satisfied: chardet<3.1.0,>=3.0.2 in /gnu/store/q9rm8h9imazsq2c4qiv2yjpvlvliywqb-python-3.8.2/lib/python3.8/site-packages (from requests==2.20.0) (3.0.4)\n",
      "Requirement already satisfied: certifi>=2017.4.17 in /gnu/store/q9rm8h9imazsq2c4qiv2yjpvlvliywqb-python-3.8.2/lib/python3.8/site-packages (from requests==2.20.0) (2021.5.30)\n",
      "Installing collected packages: requests\n",
      "Successfully installed requests-2.20.0\n",
      "WARNING: You are using pip version 19.2.3, however version 21.2.3 is available.\n",
      "You should consider upgrading via the 'pip install --upgrade pip' command."
     ]
    }
   ],
   "source": [
    "!metacall pip3 install requests==2.20.0"
   ]
  },
  {
   "cell_type": "code",
   "execution_count": 3,
   "id": "05f29b15-a14a-40a4-9470-d912d0f6be13",
   "metadata": {},
   "outputs": [
    {
     "name": "stdout",
     "output_type": "stream",
     "text": [
      "https://tinyurl.com/ycj92lsp"
     ]
    }
   ],
   "source": [
    ">python\n",
    "\n",
    "import requests\n",
    "from urllib.parse import urlencode\n",
    "import sys\n",
    "\n",
    "\n",
    "def make_tiny(url):\n",
    "    request_url = ('http://tinyurl.com/api-create.php?' +\n",
    "                   urlencode({'url': url}))\n",
    "    result = requests.get(request_url)\n",
    "    return result.text\n",
    "\n",
    "print(make_tiny(\"http://harshcasper.hashnode.dev/polyglot-programming-with-metacall\"))"
   ]
  }
 ],
 "metadata": {
  "kernelspec": {
   "display_name": "metacall_jupyter",
   "language": "text",
   "name": "metacall_jupyter"
  },
  "language_info": {
   "file_extension": ".txt",
   "mimetype": "text/plain",
   "name": "MetaCall Core"
  }
 },
 "nbformat": 4,
 "nbformat_minor": 5
}
