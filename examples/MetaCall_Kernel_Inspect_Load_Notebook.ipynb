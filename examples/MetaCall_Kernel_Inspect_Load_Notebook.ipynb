{
 "cells": [
  {
   "cell_type": "code",
   "execution_count": 1,
   "id": "1215054c",
   "metadata": {},
   "outputs": [
    {
     "name": "stdout",
     "output_type": "stream",
     "text": [
      "File main.py is saved."
     ]
    }
   ],
   "source": [
    "$newfile main.py\n",
    "\n",
    "def a():\n",
    "    return 4"
   ]
  },
  {
   "cell_type": "code",
   "execution_count": 2,
   "id": "27146cbe",
   "metadata": {},
   "outputs": [
    {
     "name": "stdout",
     "output_type": "stream",
     "text": [
      "The file has been successfully loaded"
     ]
    }
   ],
   "source": [
    "%load py main.py"
   ]
  },
  {
   "cell_type": "code",
   "execution_count": 3,
   "id": "12064611",
   "metadata": {},
   "outputs": [
    {
     "name": "stdout",
     "output_type": "stream",
     "text": [
      "{\"node\": [{\"name\": \"repl.js\", \"scope\": {\"name\": \"global_namespace\", \"funcs\": [], \"classes\": [], \"objects\": []}}], \"py\": [{\"name\": \"repl.py\", \"scope\": {\"name\": \"global_namespace\", \"funcs\": [{\"name\": \"py_repl_write\", \"signature\": {\"ret\": {\"type\": {\"name\": \"\", \"id\": 18}}, \"args\": [{\"name\": \"str\", \"type\": {\"name\": \"\", \"id\": 18}}]}, \"async\": false}, {\"name\": \"py_repl_close\", \"signature\": {\"ret\": {\"type\": {\"name\": \"\", \"id\": 18}}, \"args\": []}, \"async\": false}], \"classes\": [{\"name\": \"InteractiveConsole\"}, {\"name\": \"StringIO\"}, {\"name\": \"Capturing\"}], \"objects\": []}}, {\"name\": \"main.py\", \"scope\": {\"name\": \"global_namespace\", \"funcs\": [{\"name\": \"a\", \"signature\": {\"ret\": {\"type\": {\"name\": \"\", \"id\": 18}}, \"args\": []}, \"async\": false}], \"classes\": [], \"objects\": []}}]}"
     ]
    }
   ],
   "source": [
    "%inspect"
   ]
  },
  {
   "cell_type": "code",
   "execution_count": 4,
   "id": "89b53ccc",
   "metadata": {},
   "outputs": [
    {
     "name": "stdout",
     "output_type": "stream",
     "text": [
      "REPL 'node' has been selected."
     ]
    }
   ],
   "source": [
    "%repl node"
   ]
  },
  {
   "cell_type": "code",
   "execution_count": 5,
   "id": "e4d875c7",
   "metadata": {},
   "outputs": [
    {
     "name": "stdout",
     "output_type": "stream",
     "text": [
      "4"
     ]
    }
   ],
   "source": [
    "require('metacall').metacall('a')"
   ]
  }
 ],
 "metadata": {
  "kernelspec": {
   "display_name": "metacall_jupyter",
   "language": "text",
   "name": "metacall_jupyter"
  },
  "language_info": {
   "file_extension": ".txt",
   "mimetype": "text/plain",
   "name": "MetaCall Core"
  }
 },
 "nbformat": 4,
 "nbformat_minor": 5
}
